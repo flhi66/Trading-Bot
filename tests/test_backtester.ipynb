{
 "cells": [
  {
   "cell_type": "code",
   "execution_count": null,
   "id": "a17c33d8",
   "metadata": {},
   "outputs": [
    {
     "name": "stdout",
     "output_type": "stream",
     "text": [
      "Projektwurzel gesetzt auf: /home/homeflo/workspace/project_trading/Trading-Bot\n"
     ]
    }
   ],
   "source": [
    "import sys\n",
    "import os\n",
    "\n",
    "project_root = os.path.abspath(os.path.join(os.getcwd(), \"..\"))\n",
    "if project_root not in sys.path:\n",
    "    sys.path.insert(0, project_root)\n",
    "\n",
    "print(\"Project root is set:\", project_root)\n"
   ]
  },
  {
   "cell_type": "markdown",
   "id": "937174ce",
   "metadata": {},
   "source": [
    "## === Step 1: Load data  ==="
   ]
  },
  {
   "cell_type": "code",
   "execution_count": null,
   "id": "ac807f35",
   "metadata": {},
   "outputs": [
    {
     "name": "stdout",
     "output_type": "stream",
     "text": [
      "🚀 Starting BOS/CHOCH Backtester\n",
      "📊 Loading data for GBP_USD_M1_08-01-2025_09-01-2025_with_volume.pkl with days_back=60...\n",
      "📊 Loaded 1959 '15M' candles from 2025-08-01 00:00:00+00:00 to 2025-08-31 23:45:00+00:00\n"
     ]
    }
   ],
   "source": [
    "symbol = \"GBP_USD_M1_08-01-2025_09-01-2025_with_volume.pkl\"  #\"XAUUSD_H1.csv\"\n",
    "print(f\"📊 Loading data for {symbol} with days_back=60...\")\n",
    "freq = \"15M\"\n",
    "# Use the same data loading function\n",
    "from core.data_loader import load_and_resample\n",
    "resampled = load_and_resample(f\"../data/{symbol}\", days_back=60)\n",
    "data = resampled.get(freq)\n",
    "\n",
    "if data is None or data.empty:\n",
    "    print(f\"❌ ERROR: No data loaded for the '{freq}' timeframe.\")\n",
    "    \n",
    "else:\n",
    "    print(f\"📊 Loaded {len(data)} '{freq}' candles from {data.index.min()} to {data.index.max()}\")"
   ]
  },
  {
   "cell_type": "markdown",
   "id": "0c57cebf",
   "metadata": {},
   "source": [
    "## === Step 2: Analyse market structure ==="
   ]
  },
  {
   "cell_type": "code",
   "execution_count": null,
   "id": "98dcaf2b",
   "metadata": {},
   "outputs": [
    {
     "name": "stdout",
     "output_type": "stream",
     "text": [
      "🔍 Analyzing market structure...\n",
      "📊 Total structure points: 61\n"
     ]
    }
   ],
   "source": [
    "print(\"🔍 Analyzing market structure...\")\n",
    "from core.structure_builder import get_market_analysis\n",
    "analysis = get_market_analysis(data, prominence_factor=2.5)\n",
    "structure = analysis['structure']\n",
    "\n",
    "print(f\"📊 Total structure points: {len(structure)}\")\n"
   ]
  },
  {
   "cell_type": "markdown",
   "id": "1b9da82f",
   "metadata": {},
   "source": [
    "## === Step 3: Detect market events ==="
   ]
  },
  {
   "cell_type": "markdown",
   "id": "261b28ac",
   "metadata": {},
   "source": [
    "## === Step 4: Initialize and run backtrader ==="
   ]
  },
  {
   "cell_type": "markdown",
   "id": "d06293bf",
   "metadata": {},
   "source": [
    "## === Step 5: Run backtest ==="
   ]
  },
  {
   "cell_type": "markdown",
   "id": "e75df27f",
   "metadata": {},
   "source": [
    "## === Step 6: Display results ==="
   ]
  },
  {
   "cell_type": "markdown",
   "id": "48bcaa68",
   "metadata": {},
   "source": [
    "## === Step 7: Generate visualizations ==="
   ]
  }
 ],
 "metadata": {
  "kernelspec": {
   "display_name": ".venv",
   "language": "python",
   "name": "python3"
  },
  "language_info": {
   "codemirror_mode": {
    "name": "ipython",
    "version": 3
   },
   "file_extension": ".py",
   "mimetype": "text/x-python",
   "name": "python",
   "nbconvert_exporter": "python",
   "pygments_lexer": "ipython3",
   "version": "3.12.3"
  }
 },
 "nbformat": 4,
 "nbformat_minor": 5
}
