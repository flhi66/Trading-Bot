{
 "cells": [
  {
   "cell_type": "code",
   "execution_count": 1,
   "id": "a17c33d8",
   "metadata": {},
   "outputs": [
    {
     "name": "stdout",
     "output_type": "stream",
     "text": [
      "Project root is set: /home/homeflo/workspace/project_trading/Trading-Bot\n"
     ]
    }
   ],
   "source": [
    "import sys\n",
    "import os\n",
    "\n",
    "project_root = os.path.abspath(os.path.join(os.getcwd(), \"..\"))\n",
    "if project_root not in sys.path:\n",
    "    sys.path.insert(0, project_root)\n",
    "\n",
    "print(\"Project root is set:\", project_root)\n"
   ]
  },
  {
   "cell_type": "markdown",
   "id": "937174ce",
   "metadata": {},
   "source": [
    "#### === Step 1: Load data  ==="
   ]
  },
  {
   "cell_type": "code",
   "execution_count": 2,
   "id": "ac807f35",
   "metadata": {},
   "outputs": [
    {
     "name": "stdout",
     "output_type": "stream",
     "text": [
      "📊 Loading data for USD_JPY_M1_10-27-2025_10-28-2025_with_volume.pkl with days_back=60...\n",
      "📊 Loaded  1437 '1M' candles from \t2025-10-27 00:00:00+00:00 to 2025-10-28 00:00:00+00:00\n",
      "📊 Loaded   718 '2M' candles from \t2025-10-27 00:00:00+00:00 to 2025-10-27 23:58:00+00:00\n",
      "📊 Loaded    95 '15M' candles from \t2025-10-27 00:00:00+00:00 to 2025-10-27 23:45:00+00:00\n",
      "📊 Loaded     5 '4H' candles from \t2025-10-27 00:00:00+00:00 to 2025-10-27 16:00:00+00:00\n"
     ]
    }
   ],
   "source": [
    "# symbol =  \"GBP_USD_M1_09-01-2025_10-01-2025_with_volume.pkl\" #\"GBP_USD_M1_08-01-2025_09-01-2025_with_volume.pkl\"  #\"XAUUSD_H1.csv\"\n",
    "# symbol =  \"GBP_USD_M1_08-01-2025_09-01-2025_with_volume.pkl\"\n",
    "# symbol =  \"GBP_USD_M1_10-27-2025_10-28-2025_with_volume.pkl\"\n",
    "symbol = \"USD_JPY_M1_10-27-2025_10-28-2025_with_volume.pkl\"\n",
    "print(f\"📊 Loading data for {symbol} with days_back=60...\")\n",
    "ltf1 = \"1M\"\n",
    "ltf2 = \"2M\"\n",
    "mtf = \"15M\"\n",
    "htf = \"4H\"\n",
    "# Use the same data loading function\n",
    "from core.data_loader import load_and_resample\n",
    "resampled = load_and_resample(f\"../data/{symbol}\", days_back=60)\n",
    "ltf1_data = resampled.get(ltf1)\n",
    "ltf2_data = resampled.get(ltf2)\n",
    "mtf_data = resampled.get(mtf)\n",
    "htf_data = resampled.get(htf)\n",
    "\n",
    "if ltf1_data is None or ltf1_data.empty:\n",
    "    print(f\"❌ ERROR: No data loaded for the '{ltf1}' timeframe.\")\n",
    "elif ltf2_data is None or ltf2_data.empty:\n",
    "    print(f\"❌ ERROR: No data loaded for the '{ltf2}' timeframe.\")\n",
    "elif mtf_data is None or mtf_data.empty:\n",
    "    print(f\"❌ ERROR: No data loaded for the '{mtf}' timeframe.\")\n",
    "elif htf_data is None or htf_data.empty:\n",
    "    print(f\"❌ ERROR: No data loaded for the '{htf}' timeframe.\")\n",
    "    \n",
    "else:\n",
    "    print(f\"📊 Loaded {len(ltf1_data):5} '{ltf1}' candles from \\t{ltf1_data.index.min()} to {ltf1_data.index.max()}\")\n",
    "    print(f\"📊 Loaded {len(ltf2_data):5} '{ltf2}' candles from \\t{ltf2_data.index.min()} to {ltf2_data.index.max()}\")\n",
    "    print(f\"📊 Loaded {len(mtf_data):5} '{mtf}' candles from \\t{mtf_data.index.min()} to {mtf_data.index.max()}\")\n",
    "    print(f\"📊 Loaded {len(htf_data):5} '{htf}' candles from \\t{htf_data.index.min()} to {htf_data.index.max()}\")\n",
    "    data = {ltf1: ltf1_data, ltf2: ltf2_data, mtf: mtf_data, htf: htf_data}"
   ]
  },
  {
   "cell_type": "markdown",
   "id": "0c57cebf",
   "metadata": {},
   "source": [
    "#### === Step 2: Analyse market structure ==="
   ]
  },
  {
   "cell_type": "code",
   "execution_count": null,
   "id": "98dcaf2b",
   "metadata": {},
   "outputs": [
    {
     "name": "stdout",
     "output_type": "stream",
     "text": [
      "🔍 Analyzing market structure...\n",
      "⏱️  Market structure analysis with ATR took \t 4.310021 ms\n",
      "⏱️  Market structure analysis without ATR took \t 1.363697 ms\n"
     ]
    }
   ],
   "source": [
    "print(\"🔍 Analyzing market structure...\")\n",
    "from core.structure_builder import analyse_market_structure\n",
    "from time import perf_counter_ns\n",
    "\n",
    "t = perf_counter_ns()\n",
    "swing_high_low_test, trend_test = analyse_market_structure(mtf_data, based_on_atr=True)#dropna()\n",
    "swing_high_low_test = swing_high_low_test.dropna()\n",
    "print(f\"⏱️  Market structure analysis with ATR took \\t {(perf_counter_ns() - t)/ 1_000_000} ms\")\n",
    "\n",
    "t = perf_counter_ns()\n",
    "swing_high_low_test_2, trend_test_2 = analyse_market_structure(mtf_data, based_on_atr=False)#.dropna()\n",
    "swing_high_low_test_2 = swing_high_low_test_2.dropna()\n",
    "\n",
    "print(f\"⏱️  Market structure analysis without ATR took \\t {(perf_counter_ns() - t) / 1_000_000} ms\")"
   ]
  },
  {
   "cell_type": "code",
   "execution_count": 62,
   "id": "64fc3a3f",
   "metadata": {},
   "outputs": [
    {
     "name": "stdout",
     "output_type": "stream",
     "text": [
      "🔍 Analyzing market structure...\n",
      "📊 1M : Total structure points:   165, Trend: None\n",
      "📊 2M : Total structure points:    70, Trend: None\n",
      "📊 15M: Total structure points:    14, Trend: None\n",
      "📊 4H : Total structure points:     0, Trend: None\n"
     ]
    }
   ],
   "source": [
    "print(\"🔍 Analyzing market structure...\")\n",
    "from core.structure_builder import analyse_market_structure\n",
    "\n",
    "prominence_factor ={\n",
    "    ltf1: 1,\n",
    "    ltf2: 1,\n",
    "    mtf: 0.5,\n",
    "    htf: 0.5\n",
    "}\n",
    "\n",
    "structure = {}\n",
    "trends = {}\n",
    "for tf, df in data.items():\n",
    "    analysis, trend = analyse_market_structure(df, swing_length=10, trend_window=4, prominence_factor=prominence_factor[tf])\n",
    "    structure[tf] = analysis.dropna()\n",
    "    trends[tf] = trend\n",
    "    print(f\"📊 {tf:3}: Total structure points: {len(structure[tf].dropna()):5}, Trend: {trend}\")"
   ]
  },
  {
   "cell_type": "code",
   "execution_count": 66,
   "id": "02562b71",
   "metadata": {},
   "outputs": [
    {
     "data": {
      "text/plain": [
       "<module 'core.structure_builder' from '/home/homeflo/workspace/project_trading/Trading-Bot/core/structure_builder.py'>"
      ]
     },
     "execution_count": 66,
     "metadata": {},
     "output_type": "execute_result"
    }
   ],
   "source": [
    "from importlib import reload\n",
    "from core import structure_builder\n",
    "reload(structure_builder)"
   ]
  },
  {
   "cell_type": "code",
   "execution_count": null,
   "id": "a2c2160d",
   "metadata": {},
   "outputs": [],
   "source": [
    "structure_mtf = structure[mtf]\n"
   ]
  },
  {
   "cell_type": "markdown",
   "id": "1b9da82f",
   "metadata": {},
   "source": [
    "#### === Step 3: Detect market events ==="
   ]
  },
  {
   "cell_type": "code",
   "execution_count": 32,
   "id": "c5814d42",
   "metadata": {},
   "outputs": [
    {
     "name": "stdout",
     "output_type": "stream",
     "text": [
      "🎯 Detecting market events...\n",
      "🔍 Analyzing 1M timeframe...\n",
      "Index 2: SwingType.HL @ 152.96400 - Trend before: sideways\n",
      "Index 3: SwingType.LH @ 153.02600 - Trend before: downtrend\n",
      "Index 4: SwingType.LL @ 152.86300 - Trend before: downtrend\n",
      "Index 5: SwingType.LH @ 152.93900 - Trend before: downtrend\n",
      "Index 6: SwingType.LL @ 152.83300 - Trend before: downtrend\n",
      "Index 7: SwingType.HH @ 152.99300 - Trend before: downtrend\n",
      "Potential Bullish CHOCH at Index 7: HH @ 152.99300 breaking LH @ 152.93900\n",
      "Index 8: SwingType.LL @ 152.65400 - Trend before: uptrend\n",
      "Index 9: SwingType.LH @ 152.79600 - Trend before: downtrend\n",
      "Index 10: SwingType.HL @ 152.69400 - Trend before: downtrend\n",
      "Index 11: SwingType.HH @ 152.80200 - Trend before: downtrend\n",
      "Index 12: SwingType.HL @ 152.74700 - Trend before: downtrend\n",
      "Index 13: SwingType.HH @ 153.01700 - Trend before: uptrend\n",
      "Index 14: SwingType.HL @ 152.96600 - Trend before: uptrend\n",
      "Index 15: SwingType.LH @ 153.00400 - Trend before: uptrend\n",
      "Index 16: SwingType.LL @ 152.95100 - Trend before: uptrend\n",
      "Index 17: SwingType.HH @ 153.00600 - Trend before: uptrend\n",
      "Index 18: SwingType.HL @ 152.96400 - Trend before: sideways\n",
      "Index 19: SwingType.LH @ 153.00200 - Trend before: sideways\n",
      "Index 20: SwingType.LL @ 152.95400 - Trend before: sideways\n",
      "Index 21: SwingType.HH @ 153.12800 - Trend before: sideways\n",
      "Index 22: SwingType.HL @ 153.03500 - Trend before: uptrend\n",
      "Index 23: SwingType.HH @ 153.16600 - Trend before: uptrend\n",
      "Index 24: SwingType.HL @ 153.10400 - Trend before: uptrend\n",
      "Index 25: SwingType.LH @ 153.16400 - Trend before: uptrend\n",
      "Index 26: SwingType.HL @ 153.12400 - Trend before: uptrend\n",
      "Index 27: SwingType.HH @ 153.20000 - Trend before: uptrend\n",
      "Index 28: SwingType.HL @ 153.13000 - Trend before: uptrend\n",
      "Index 29: SwingType.HH @ 153.20700 - Trend before: uptrend\n",
      "Index 30: SwingType.HL @ 153.16000 - Trend before: uptrend\n",
      "Index 31: SwingType.HH @ 153.25800 - Trend before: uptrend\n",
      "Index 32: SwingType.HL @ 153.21700 - Trend before: uptrend\n",
      "Index 33: SwingType.LH @ 153.24900 - Trend before: uptrend\n",
      "Index 34: SwingType.LL @ 153.15200 - Trend before: uptrend\n",
      "Potential Bearish CHOCH at Index 34: LL @ 153.15200 breaking HL @ 153.16000\n",
      "Index 35: SwingType.LH @ 153.20600 - Trend before: downtrend\n",
      "Index 36: SwingType.LL @ 153.03100 - Trend before: downtrend\n",
      "Index 37: SwingType.LH @ 153.09000 - Trend before: downtrend\n",
      "Index 38: SwingType.LL @ 152.97400 - Trend before: downtrend\n",
      "Index 39: SwingType.LH @ 153.04000 - Trend before: downtrend\n",
      "Index 40: SwingType.LL @ 152.83200 - Trend before: downtrend\n",
      "Index 41: SwingType.HH @ 153.05000 - Trend before: downtrend\n",
      "Potential Bullish CHOCH at Index 41: HH @ 153.05000 breaking LH @ 153.04000\n",
      "Index 42: SwingType.HL @ 152.86900 - Trend before: uptrend\n",
      "Index 43: SwingType.LH @ 152.94600 - Trend before: uptrend\n",
      "Index 44: SwingType.HL @ 152.88700 - Trend before: uptrend\n",
      "Index 45: SwingType.HH @ 153.03200 - Trend before: uptrend\n",
      "Index 46: SwingType.LL @ 152.86300 - Trend before: uptrend\n",
      "Potential Bearish CHOCH at Index 46: LL @ 152.86300 breaking HL @ 153.16000\n",
      "Index 47: SwingType.HH @ 153.07800 - Trend before: sideways\n",
      "Index 48: SwingType.HL @ 152.89900 - Trend before: uptrend\n",
      "Index 49: SwingType.LH @ 152.99400 - Trend before: uptrend\n",
      "Index 50: SwingType.LL @ 152.88800 - Trend before: uptrend\n",
      "Potential Bearish CHOCH at Index 50: LL @ 152.88800 breaking HL @ 153.16000\n",
      "Index 51: SwingType.LH @ 152.94900 - Trend before: uptrend\n",
      "Index 52: SwingType.LL @ 152.74400 - Trend before: downtrend\n",
      "Index 53: SwingType.LH @ 152.84600 - Trend before: downtrend\n",
      "Index 54: SwingType.HL @ 152.76000 - Trend before: downtrend\n",
      "Index 55: SwingType.LH @ 152.81200 - Trend before: downtrend\n",
      "Index 56: SwingType.LL @ 152.73200 - Trend before: downtrend\n",
      "Index 57: SwingType.LH @ 152.77400 - Trend before: downtrend\n",
      "Index 58: SwingType.LL @ 152.70200 - Trend before: downtrend\n",
      "Index 59: SwingType.HH @ 152.79000 - Trend before: downtrend\n",
      "Potential Bullish CHOCH at Index 59: HH @ 152.79000 breaking LH @ 152.77400\n",
      "Index 60: SwingType.HL @ 152.73800 - Trend before: uptrend\n",
      "Index 61: SwingType.LH @ 152.78800 - Trend before: uptrend\n",
      "Index 62: SwingType.LL @ 152.72400 - Trend before: uptrend\n",
      "Potential Bearish CHOCH at Index 62: LL @ 152.72400 breaking HL @ 153.16000\n",
      "Index 63: SwingType.HH @ 152.85000 - Trend before: uptrend\n",
      "Index 64: SwingType.HL @ 152.77200 - Trend before: uptrend\n",
      "Index 65: SwingType.LH @ 152.81700 - Trend before: uptrend\n",
      "Index 66: SwingType.LL @ 152.73800 - Trend before: uptrend\n",
      "Potential Bearish CHOCH at Index 66: LL @ 152.73800 breaking HL @ 153.16000\n",
      "Index 67: SwingType.LH @ 152.80900 - Trend before: uptrend\n",
      "Index 68: SwingType.LL @ 152.70500 - Trend before: downtrend\n",
      "Index 69: SwingType.LH @ 152.76200 - Trend before: downtrend\n",
      "Index 70: SwingType.LL @ 152.59400 - Trend before: downtrend\n",
      "Index 71: SwingType.HH @ 152.80800 - Trend before: downtrend\n",
      "Potential Bullish CHOCH at Index 71: HH @ 152.80800 breaking LH @ 152.76200\n",
      "Index 72: SwingType.HL @ 152.73800 - Trend before: uptrend\n",
      "Index 73: SwingType.LH @ 152.80100 - Trend before: uptrend\n",
      "Index 74: SwingType.LL @ 152.56600 - Trend before: uptrend\n",
      "Potential Bearish CHOCH at Index 74: LL @ 152.56600 breaking HL @ 153.16000\n",
      "Index 75: SwingType.LH @ 152.71000 - Trend before: downtrend\n",
      "Index 76: SwingType.HL @ 152.64200 - Trend before: downtrend\n",
      "Index 77: SwingType.HH @ 152.84600 - Trend before: downtrend\n",
      "Potential Bullish CHOCH at Index 77: HH @ 152.84600 breaking LH @ 152.80100\n",
      "Index 78: SwingType.HL @ 152.79200 - Trend before: uptrend\n",
      "Index 79: SwingType.HH @ 152.89700 - Trend before: uptrend\n",
      "Index 80: SwingType.HL @ 152.80800 - Trend before: uptrend\n",
      "Index 81: SwingType.LH @ 152.89600 - Trend before: uptrend\n",
      "Index 82: SwingType.HL @ 152.81000 - Trend before: uptrend\n",
      "Index 83: SwingType.LH @ 152.88800 - Trend before: uptrend\n",
      "Index 84: SwingType.HL @ 152.94400 - Trend before: sideways\n",
      "Index 85: SwingType.HH @ 153.19600 - Trend before: sideways\n",
      "Index 86: SwingType.HL @ 153.09800 - Trend before: uptrend\n",
      "Index 87: SwingType.LH @ 153.17500 - Trend before: uptrend\n",
      "Index 88: SwingType.LL @ 153.08400 - Trend before: uptrend\n",
      "Index 89: SwingType.HH @ 153.19200 - Trend before: uptrend\n",
      "Index 90: SwingType.HL @ 153.11000 - Trend before: sideways\n",
      "Index 91: SwingType.LH @ 153.15600 - Trend before: sideways\n",
      "Index 92: SwingType.LL @ 153.03800 - Trend before: sideways\n",
      "Index 93: SwingType.LH @ 153.09200 - Trend before: sideways\n",
      "Index 94: SwingType.LL @ 153.03200 - Trend before: downtrend\n",
      "Index 95: SwingType.HH @ 153.09200 - Trend before: downtrend\n",
      "Potential Bullish CHOCH at Index 95: HH @ 153.09200 breaking LH @ 152.80100\n",
      "Index 96: SwingType.LL @ 153.01100 - Trend before: downtrend\n",
      "Index 97: SwingType.HH @ 153.09900 - Trend before: downtrend\n",
      "Potential Bullish CHOCH at Index 97: HH @ 153.09900 breaking LH @ 152.80100\n",
      "Index 98: SwingType.HL @ 153.04800 - Trend before: sideways\n",
      "Index 99: SwingType.LH @ 153.09700 - Trend before: uptrend\n",
      "Index 100: SwingType.LL @ 152.98600 - Trend before: sideways\n",
      "Index 101: SwingType.HH @ 153.11600 - Trend before: sideways\n",
      "Index 102: SwingType.HL @ 153.03400 - Trend before: sideways\n",
      "Index 103: SwingType.LH @ 153.11000 - Trend before: sideways\n",
      "Index 104: SwingType.HL @ 153.04800 - Trend before: sideways\n",
      "Index 105: SwingType.HH @ 153.12200 - Trend before: uptrend\n",
      "Index 106: SwingType.HL @ 153.05400 - Trend before: uptrend\n",
      "Index 107: SwingType.LH @ 153.11200 - Trend before: uptrend\n",
      "Index 108: SwingType.LL @ 153.02800 - Trend before: uptrend\n",
      "Index 109: SwingType.LH @ 153.08800 - Trend before: sideways\n",
      "Index 110: SwingType.LL @ 152.97800 - Trend before: downtrend\n",
      "Index 111: SwingType.LH @ 153.01400 - Trend before: downtrend\n",
      "Index 112: SwingType.LL @ 152.94000 - Trend before: downtrend\n",
      "Index 113: SwingType.HH @ 153.09600 - Trend before: downtrend\n",
      "Potential Bullish CHOCH at Index 113: HH @ 153.09600 breaking LH @ 153.01400\n",
      "Index 114: SwingType.HL @ 153.02600 - Trend before: uptrend\n",
      "Index 115: SwingType.LH @ 153.06300 - Trend before: uptrend\n",
      "Index 116: SwingType.LL @ 152.76200 - Trend before: uptrend\n",
      "Potential Bearish CHOCH at Index 116: LL @ 152.76200 breaking HL @ 152.94400\n",
      "Index 117: SwingType.LH @ 152.88400 - Trend before: downtrend\n",
      "Index 118: SwingType.HL @ 152.83000 - Trend before: downtrend\n",
      "Index 119: SwingType.HH @ 152.95400 - Trend before: downtrend\n",
      "Index 120: SwingType.HL @ 152.85200 - Trend before: downtrend\n",
      "Index 121: SwingType.LH @ 152.89600 - Trend before: uptrend\n",
      "Index 122: SwingType.HL @ 152.85400 - Trend before: uptrend\n",
      "Index 123: SwingType.HH @ 152.91700 - Trend before: uptrend\n",
      "Index 124: SwingType.LL @ 152.75700 - Trend before: uptrend\n",
      "Potential Bearish CHOCH at Index 124: LL @ 152.75700 breaking HL @ 152.94400\n",
      "Index 125: SwingType.LH @ 152.82400 - Trend before: downtrend\n",
      "Index 126: SwingType.HL @ 152.77000 - Trend before: downtrend\n",
      "Index 127: SwingType.LH @ 152.81200 - Trend before: downtrend\n",
      "Index 128: SwingType.LL @ 152.73000 - Trend before: downtrend\n",
      "Index 129: SwingType.LH @ 152.78100 - Trend before: downtrend\n",
      "Index 130: SwingType.LL @ 152.63400 - Trend before: downtrend\n",
      "Index 131: SwingType.LH @ 152.72800 - Trend before: downtrend\n",
      "📊 1M : Detected events:   132\n",
      "\n",
      "🔍 Analyzing 2M timeframe...\n",
      "Index 2: SwingType.LL @ 152.83300 - Trend before: sideways\n",
      "Index 3: SwingType.LH @ 152.99300 - Trend before: downtrend\n",
      "Index 4: SwingType.LL @ 152.65400 - Trend before: downtrend\n",
      "Index 5: SwingType.LH @ 152.79600 - Trend before: downtrend\n",
      "Index 6: SwingType.HL @ 152.69400 - Trend before: downtrend\n",
      "Index 7: SwingType.HH @ 153.01700 - Trend before: downtrend\n",
      "Potential Bullish CHOCH at Index 7: HH @ 153.01700 breaking LH @ 152.99300\n",
      "Index 8: SwingType.HL @ 152.95100 - Trend before: uptrend\n",
      "Index 9: SwingType.HH @ 153.12800 - Trend before: uptrend\n",
      "Index 10: SwingType.HL @ 153.03500 - Trend before: uptrend\n",
      "Index 11: SwingType.HH @ 153.25800 - Trend before: uptrend\n",
      "Index 12: SwingType.LL @ 152.83200 - Trend before: uptrend\n",
      "Potential Bearish CHOCH at Index 12: LL @ 152.83200 breaking HL @ 153.03500\n",
      "Index 13: SwingType.LH @ 153.05000 - Trend before: downtrend\n",
      "Index 14: SwingType.HL @ 152.86900 - Trend before: downtrend\n",
      "Index 15: SwingType.LH @ 153.03200 - Trend before: downtrend\n",
      "Index 16: SwingType.LL @ 152.86300 - Trend before: downtrend\n",
      "Index 17: SwingType.HH @ 153.07800 - Trend before: downtrend\n",
      "Potential Bullish CHOCH at Index 17: HH @ 153.07800 breaking LH @ 152.99300\n",
      "Index 18: SwingType.HL @ 152.89900 - Trend before: sideways\n",
      "Index 19: SwingType.LH @ 152.99400 - Trend before: sideways\n",
      "Index 20: SwingType.LL @ 152.74400 - Trend before: sideways\n",
      "Index 21: SwingType.LH @ 152.84600 - Trend before: downtrend\n",
      "Index 22: SwingType.LL @ 152.70200 - Trend before: downtrend\n",
      "Index 23: SwingType.LH @ 152.79000 - Trend before: downtrend\n",
      "Index 24: SwingType.HL @ 152.72400 - Trend before: downtrend\n",
      "Index 25: SwingType.HH @ 152.85000 - Trend before: downtrend\n",
      "Potential Bullish CHOCH at Index 25: HH @ 152.85000 breaking LH @ 152.84600\n",
      "Index 26: SwingType.HL @ 152.73800 - Trend before: uptrend\n",
      "Index 27: SwingType.LH @ 152.80900 - Trend before: uptrend\n",
      "Index 28: SwingType.LL @ 152.59400 - Trend before: uptrend\n",
      "Potential Bearish CHOCH at Index 28: LL @ 152.59400 breaking HL @ 152.72400\n",
      "Index 29: SwingType.LH @ 152.80800 - Trend before: downtrend\n",
      "Index 30: SwingType.LL @ 152.56600 - Trend before: downtrend\n",
      "Index 31: SwingType.LH @ 152.71000 - Trend before: downtrend\n",
      "Index 32: SwingType.HL @ 152.79200 - Trend before: downtrend\n",
      "Index 33: SwingType.HH @ 152.89700 - Trend before: downtrend\n",
      "Potential Bullish CHOCH at Index 33: HH @ 152.89700 breaking LH @ 152.80800\n",
      "Index 34: SwingType.HL @ 152.80800 - Trend before: uptrend\n",
      "Index 35: SwingType.LH @ 152.89600 - Trend before: uptrend\n",
      "Index 36: SwingType.HL @ 152.81000 - Trend before: uptrend\n",
      "Index 37: SwingType.HH @ 153.19600 - Trend before: uptrend\n",
      "Index 38: SwingType.HL @ 153.08400 - Trend before: uptrend\n",
      "Index 39: SwingType.LH @ 153.19200 - Trend before: uptrend\n",
      "Index 40: SwingType.LL @ 153.01100 - Trend before: uptrend\n",
      "Index 41: SwingType.LH @ 153.09900 - Trend before: uptrend\n",
      "Index 42: SwingType.LL @ 152.98600 - Trend before: downtrend\n",
      "Index 43: SwingType.HH @ 153.11600 - Trend before: downtrend\n",
      "Potential Bullish CHOCH at Index 43: HH @ 153.11600 breaking LH @ 152.80800\n",
      "Index 44: SwingType.HL @ 153.03400 - Trend before: downtrend\n",
      "Index 45: SwingType.HH @ 153.12200 - Trend before: sideways\n",
      "Index 46: SwingType.LL @ 152.94000 - Trend before: uptrend\n",
      "Index 47: SwingType.LH @ 153.09600 - Trend before: uptrend\n",
      "Index 48: SwingType.LL @ 152.76200 - Trend before: sideways\n",
      "Index 49: SwingType.LH @ 152.88400 - Trend before: downtrend\n",
      "Index 50: SwingType.HL @ 152.83000 - Trend before: downtrend\n",
      "Index 51: SwingType.HH @ 152.95400 - Trend before: downtrend\n",
      "Index 52: SwingType.HL @ 152.85200 - Trend before: downtrend\n",
      "Index 53: SwingType.LH @ 152.91700 - Trend before: uptrend\n",
      "Index 54: SwingType.LL @ 152.75700 - Trend before: uptrend\n",
      "Potential Bearish CHOCH at Index 54: LL @ 152.75700 breaking HL @ 152.81000\n",
      "Index 55: SwingType.LH @ 152.82400 - Trend before: downtrend\n",
      "Index 56: SwingType.LL @ 152.63400 - Trend before: downtrend\n",
      "📊 2M : Detected events:    57\n",
      "\n",
      "🔍 Analyzing 15M timeframe...\n",
      "Index 2: SwingType.HL @ 152.83200 - Trend before: sideways\n",
      "Index 3: SwingType.LH @ 153.07800 - Trend before: downtrend\n",
      "Index 4: SwingType.LL @ 152.70200 - Trend before: downtrend\n",
      "Index 5: SwingType.LH @ 152.85000 - Trend before: downtrend\n",
      "Index 6: SwingType.LL @ 152.56600 - Trend before: downtrend\n",
      "Index 7: SwingType.HH @ 153.19600 - Trend before: downtrend\n",
      "Potential Bullish CHOCH at Index 7: HH @ 153.19600 breaking LH @ 152.85000\n",
      "Index 8: SwingType.HL @ 152.94000 - Trend before: uptrend\n",
      "Index 9: SwingType.LH @ 153.09600 - Trend before: uptrend\n",
      "Index 10: SwingType.LL @ 152.76200 - Trend before: uptrend\n",
      "Index 11: SwingType.LH @ 152.95400 - Trend before: uptrend\n",
      "📊 15M: Detected events:    12\n",
      "\n",
      "🔍 Analyzing 4H timeframe...\n",
      "📊 4H : Detected events:     0\n",
      "\n"
     ]
    }
   ],
   "source": [
    "print(\"🎯 Detecting market events...\")\n",
    "from core.smart_money_concepts import MarketStructureAnalyzer\n",
    "analyzer = MarketStructureAnalyzer(confidence_threshold=0.5)\n",
    "\n",
    "all_events = {}\n",
    "for tf, df in data.items():\n",
    "    print(f\"🔍 Analyzing {tf} timeframe...\")\n",
    "    events = analyzer.analyse_market_events(structure[tf])\n",
    "    print(f\"📊 {tf:3}: Detected events: {len(events):5}\\n\")\n",
    "    all_events[tf] = events\n"
   ]
  },
  {
   "cell_type": "code",
   "execution_count": 131,
   "id": "3c90ea3e",
   "metadata": {},
   "outputs": [
    {
     "data": {
      "text/plain": [
       "<module 'core.smart_money_concepts' from '/home/homeflo/workspace/project_trading/Trading-Bot/core/smart_money_concepts.py'>"
      ]
     },
     "execution_count": 131,
     "metadata": {},
     "output_type": "execute_result"
    }
   ],
   "source": [
    "from importlib import reload\n",
    "from core import smart_money_concepts\n",
    "reload(smart_money_concepts)"
   ]
  },
  {
   "cell_type": "code",
   "execution_count": 315,
   "id": "357b467a",
   "metadata": {},
   "outputs": [
    {
     "data": {
      "text/plain": [
       "True"
      ]
     },
     "execution_count": 315,
     "metadata": {},
     "output_type": "execute_result"
    }
   ],
   "source": [
    "from enum import Enum\n",
    "from dataclasses import dataclass\n",
    "from typing import Optional\n",
    "import pandas as pd\n",
    "\n",
    "class SwingType(Enum):\n",
    "    HH = \"HH\"\n",
    "    HL = \"HL\"\n",
    "    LH = \"LH\"\n",
    "    LL = \"LL\"\n",
    "\n",
    "@dataclass\n",
    "class StructurePoint:\n",
    "    timestamp: pd.Timestamp\n",
    "    price: float\n",
    "    swing_type: SwingType\n",
    "    retracement: Optional[float] = None  # Optional retracement value\n",
    "\n",
    "swing = StructurePoint(\n",
    "    timestamp=pd.Timestamp(\"2024-01-01 00:00:00\"),\n",
    "    price=1.2345,\n",
    "    swing_type=SwingType.HH,\n",
    "    retracement=0.618)\n",
    "\n",
    "swing.swing_type == SwingType.HH\n"
   ]
  },
  {
   "cell_type": "code",
   "execution_count": 28,
   "id": "8f50e65f",
   "metadata": {},
   "outputs": [],
   "source": [
    "mtf_events = all_events[mtf]"
   ]
  },
  {
   "cell_type": "markdown",
   "id": "261b28ac",
   "metadata": {},
   "source": [
    "#### === Step 4: Initialize and run backtrader ==="
   ]
  },
  {
   "cell_type": "markdown",
   "id": "d06293bf",
   "metadata": {},
   "source": [
    "#### === Step 5: Run backtest ==="
   ]
  },
  {
   "cell_type": "markdown",
   "id": "e75df27f",
   "metadata": {},
   "source": [
    "#### === Step 6: Display results ==="
   ]
  },
  {
   "cell_type": "markdown",
   "id": "48bcaa68",
   "metadata": {},
   "source": [
    "#### === Step 7: Generate visualizations ==="
   ]
  },
  {
   "cell_type": "code",
   "execution_count": 68,
   "id": "d4353893",
   "metadata": {},
   "outputs": [
    {
     "name": "stdout",
     "output_type": "stream",
     "text": [
      "\n",
      "-> Testing Chart : Trend Detection\n",
      "❌ Error: 'Pandas' object has no attribute 'Classification'\n"
     ]
    },
    {
     "name": "stderr",
     "output_type": "stream",
     "text": [
      "Traceback (most recent call last):\n",
      "  File \"/tmp/ipykernel_4824/1892171031.py\", line 10, in <module>\n",
      "    fig1 = plotter.plot_structure(mtf_data, swing_high_low_test_2.dropna(), symbol=symbol[:7], timeframe=mtf)\n",
      "           ^^^^^^^^^^^^^^^^^^^^^^^^^^^^^^^^^^^^^^^^^^^^^^^^^^^^^^^^^^^^^^^^^^^^^^^^^^^^^^^^^^^^^^^^^^^^^^^^^^\n",
      "  File \"/home/homeflo/workspace/project_trading/Trading-Bot/utils/structure_trend_plotter.py\", line 471, in plot_structure\n",
      "    struct_type = struct_point.Classification\n",
      "                  ^^^^^^^^^^^^^^^^^^^^^^^^^^^\n",
      "AttributeError: 'Pandas' object has no attribute 'Classification'\n"
     ]
    }
   ],
   "source": [
    "from utils.structure_trend_plotter import StructureTrendPlotter\n",
    "import plotly.io as pio\n",
    "pio.renderers.default = \"browser\"\n",
    "\n",
    "plotter = StructureTrendPlotter()\n",
    "\n",
    "try:\n",
    "    # Test Chart: Trend Detection\n",
    "    print(\"\\n-> Testing Chart : Trend Detection\")\n",
    "    fig1 = plotter.plot_structure(mtf_data, swing_high_low_test_2.dropna(), symbol=symbol[:7], timeframe=mtf)\n",
    "    print(\"✅ Chart 1 created successfully\")\n",
    "    fig1.show()\n",
    "    \n",
    "    print(\"\\n🎉 All charts generated successfully!\")\n",
    "        \n",
    "except Exception as e:\n",
    "    print(f\"❌ Error: {e}\")\n",
    "    import traceback\n",
    "    traceback.print_exc()"
   ]
  },
  {
   "cell_type": "code",
   "execution_count": 14,
   "id": "0eb79f65",
   "metadata": {},
   "outputs": [
    {
     "data": {
      "text/plain": [
       "<module 'utils.structure_trend_plotter' from '/home/homeflo/workspace/project_trading/Trading-Bot/utils/structure_trend_plotter.py'>"
      ]
     },
     "execution_count": 14,
     "metadata": {},
     "output_type": "execute_result"
    }
   ],
   "source": [
    "from importlib import reload\n",
    "from utils import structure_trend_plotter\n",
    "reload(structure_trend_plotter)"
   ]
  },
  {
   "cell_type": "code",
   "execution_count": 29,
   "id": "72c6f50e",
   "metadata": {},
   "outputs": [
    {
     "name": "stdout",
     "output_type": "stream",
     "text": [
      "\n",
      "-> Testing Chart : Trend Detection\n",
      "✅ Chart 1 created successfully\n",
      "\n",
      "🎉 All charts generated successfully!\n"
     ]
    }
   ],
   "source": [
    "from utils.structure_trend_plotter import StructureTrendPlotter\n",
    "import plotly.io as pio\n",
    "pio.renderers.default = \"browser\"\n",
    "\n",
    "plotter = StructureTrendPlotter()\n",
    "\n",
    "try:\n",
    "    # Test Chart: Trend Detection\n",
    "    print(\"\\n-> Testing Chart : Trend Detection\")\n",
    "    fig1 = plotter.plot_structure(mtf_data, structure[mtf].dropna(), symbol=symbol[:7], timeframe=mtf)\n",
    "    print(\"✅ Chart 1 created successfully\")\n",
    "    fig1.show()\n",
    "    \n",
    "    print(\"\\n🎉 All charts generated successfully!\")\n",
    "        \n",
    "except Exception as e:\n",
    "    print(f\"❌ Error: {e}\")\n",
    "    import traceback\n",
    "    traceback.print_exc()"
   ]
  },
  {
   "cell_type": "code",
   "execution_count": 35,
   "id": "9bf93634",
   "metadata": {},
   "outputs": [
    {
     "name": "stdout",
     "output_type": "stream",
     "text": [
      "\n",
      "-> Testing Chart : Trend Detection\n",
      "✅ Chart 1 created successfully\n",
      "\n",
      "🎉 All charts generated successfully!\n"
     ]
    }
   ],
   "source": [
    "from utils.structure_trend_plotter import StructureTrendPlotter\n",
    "import plotly.io as pio\n",
    "pio.renderers.default = \"browser\"\n",
    "\n",
    "plotter = StructureTrendPlotter()\n",
    "\n",
    "try:\n",
    "    # Test Chart: Trend Detection\n",
    "    print(\"\\n-> Testing Chart : Trend Detection\")\n",
    "    fig1 = plotter.plot_structure(htf_data, structure[htf].dropna(), symbol=symbol[:7], timeframe=htf)\n",
    "    print(\"✅ Chart 1 created successfully\")\n",
    "    fig1.show()\n",
    "    \n",
    "    print(\"\\n🎉 All charts generated successfully!\")\n",
    "        \n",
    "except Exception as e:\n",
    "    print(f\"❌ Error: {e}\")\n",
    "    import traceback\n",
    "    traceback.print_exc()"
   ]
  },
  {
   "cell_type": "code",
   "execution_count": null,
   "id": "0e9c715e",
   "metadata": {},
   "outputs": [
    {
     "name": "stdout",
     "output_type": "stream",
     "text": [
      "\n",
      "-> Testing Chart : Trend Detection\n",
      "<class 'NoneType'>\n",
      "143\n",
      "✅ Chart 1 created successfully\n",
      "\n",
      "🎉 All charts generated successfully!\n"
     ]
    }
   ],
   "source": [
    "from utils.structure_trend_plotter import StructureTrendPlotter\n",
    "import plotly.io as pio\n",
    "pio.renderers.default = \"browser\"\n",
    "\n",
    "plotter = StructureTrendPlotter()\n",
    "\n",
    "try:\n",
    "    # Test Chart: Trend Detection\n",
    "    print(\"\\n-> Testing Chart : Trend Detection\")\n",
    "    fig1 = plotter.plot_structure(ltf1_data, structure[ltf1].dropna(), symbol=symbol[:7], timeframe=ltf1)\n",
    "    print(\"✅ Chart 1 created successfully\")\n",
    "    fig1.show()\n",
    "    \n",
    "    print(\"\\n🎉 All charts generated successfully!\")\n",
    "        \n",
    "except Exception as e:\n",
    "    print(f\"❌ Error: {e}\")\n",
    "    import traceback\n",
    "    traceback.print_exc()"
   ]
  },
  {
   "cell_type": "code",
   "execution_count": 34,
   "id": "44593f8b",
   "metadata": {},
   "outputs": [
    {
     "name": "stdout",
     "output_type": "stream",
     "text": [
      "\n",
      "-> Testing Chart : Trend Detection\n",
      "✅ Chart 1 created successfully\n",
      "\n",
      "🎉 All charts generated successfully!\n"
     ]
    }
   ],
   "source": [
    "from utils.structure_trend_plotter import StructureTrendPlotter\n",
    "import plotly.io as pio\n",
    "pio.renderers.default = \"browser\"\n",
    "\n",
    "plotter = StructureTrendPlotter()\n",
    "\n",
    "try:\n",
    "    # Test Chart: Trend Detection\n",
    "    print(\"\\n-> Testing Chart : Trend Detection\")\n",
    "    fig1 = plotter.plot_structure(ltf2_data, structure[ltf2].dropna(), symbol=symbol[:7], timeframe=ltf2)\n",
    "    print(\"✅ Chart 1 created successfully\")\n",
    "    fig1.show()\n",
    "    \n",
    "    print(\"\\n🎉 All charts generated successfully!\")\n",
    "        \n",
    "except Exception as e:\n",
    "    print(f\"❌ Error: {e}\")\n",
    "    import traceback\n",
    "    traceback.print_exc()"
   ]
  },
  {
   "cell_type": "code",
   "execution_count": 29,
   "id": "3ae5df53",
   "metadata": {},
   "outputs": [
    {
     "data": {
      "text/plain": [
       "<module 'utils.structure_trend_plotter' from '/home/homeflo/workspace/project_trading/Trading-Bot/utils/structure_trend_plotter.py'>"
      ]
     },
     "execution_count": 29,
     "metadata": {},
     "output_type": "execute_result"
    }
   ],
   "source": [
    "from importlib import reload\n",
    "from utils import structure_trend_plotter\n",
    "reload(structure_trend_plotter)"
   ]
  },
  {
   "cell_type": "code",
   "execution_count": null,
   "id": "d447e7ba",
   "metadata": {},
   "outputs": [],
   "source": []
  }
 ],
 "metadata": {
  "kernelspec": {
   "display_name": ".venv",
   "language": "python",
   "name": "python3"
  },
  "language_info": {
   "codemirror_mode": {
    "name": "ipython",
    "version": 3
   },
   "file_extension": ".py",
   "mimetype": "text/x-python",
   "name": "python",
   "nbconvert_exporter": "python",
   "pygments_lexer": "ipython3",
   "version": "3.12.3"
  }
 },
 "nbformat": 4,
 "nbformat_minor": 5
}
