{
 "cells": [
  {
   "cell_type": "code",
   "execution_count": 1,
   "id": "a17c33d8",
   "metadata": {},
   "outputs": [
    {
     "name": "stdout",
     "output_type": "stream",
     "text": [
      "Project root is set: /home/homeflo/workspace/project_trading/Trading-Bot\n"
     ]
    }
   ],
   "source": [
    "import sys\n",
    "import os\n",
    "\n",
    "project_root = os.path.abspath(os.path.join(os.getcwd(), \"..\"))\n",
    "if project_root not in sys.path:\n",
    "    sys.path.insert(0, project_root)\n",
    "\n",
    "print(\"Project root is set:\", project_root)\n"
   ]
  },
  {
   "cell_type": "markdown",
   "id": "937174ce",
   "metadata": {},
   "source": [
    "#### === Step 1: Load data  ==="
   ]
  },
  {
   "cell_type": "code",
   "execution_count": 287,
   "id": "ac807f35",
   "metadata": {},
   "outputs": [
    {
     "name": "stdout",
     "output_type": "stream",
     "text": [
      "📊 Loading data for GBP_USD_M1_09-01-2025_10-01-2025_with_volume.pkl with days_back=60...\n",
      "📊 Loaded 31462 '1M' candles from \t2025-09-01 00:00:00+00:00 to 2025-10-01 00:00:00+00:00\n",
      "📊 Loaded 15695 '2M' candles from \t2025-09-01 00:00:00+00:00 to 2025-09-30 23:58:00+00:00\n",
      "📊 Loaded  2050 '15M' candles from \t2025-09-01 00:00:00+00:00 to 2025-09-30 23:45:00+00:00\n",
      "📊 Loaded   108 '4H' candles from \t2025-09-01 00:00:00+00:00 to 2025-09-30 16:00:00+00:00\n"
     ]
    }
   ],
   "source": [
    "symbol =  \"GBP_USD_M1_09-01-2025_10-01-2025_with_volume.pkl\" #\"GBP_USD_M1_08-01-2025_09-01-2025_with_volume.pkl\"  #\"XAUUSD_H1.csv\"\n",
    "# symbol =  \"GBP_USD_M1_08-01-2025_09-01-2025_with_volume.pkl\"\n",
    "print(f\"📊 Loading data for {symbol} with days_back=60...\")\n",
    "ltf1 = \"1M\"\n",
    "ltf2 = \"2M\"\n",
    "mtf = \"15M\"\n",
    "htf = \"4H\"\n",
    "# Use the same data loading function\n",
    "from core.data_loader import load_and_resample\n",
    "resampled = load_and_resample(f\"../data/{symbol}\", days_back=60)\n",
    "ltf1_data = resampled.get(ltf1)\n",
    "ltf2_data = resampled.get(ltf2)\n",
    "mtf_data = resampled.get(mtf)\n",
    "htf_data = resampled.get(htf)\n",
    "\n",
    "if ltf1_data is None or ltf1_data.empty:\n",
    "    print(f\"❌ ERROR: No data loaded for the '{ltf1}' timeframe.\")\n",
    "elif ltf2_data is None or ltf2_data.empty:\n",
    "    print(f\"❌ ERROR: No data loaded for the '{ltf2}' timeframe.\")\n",
    "elif mtf_data is None or mtf_data.empty:\n",
    "    print(f\"❌ ERROR: No data loaded for the '{mtf}' timeframe.\")\n",
    "elif htf_data is None or htf_data.empty:\n",
    "    print(f\"❌ ERROR: No data loaded for the '{htf}' timeframe.\")\n",
    "    \n",
    "else:\n",
    "    print(f\"📊 Loaded {len(ltf1_data):5} '{ltf1}' candles from \\t{ltf1_data.index.min()} to {ltf1_data.index.max()}\")\n",
    "    print(f\"📊 Loaded {len(ltf2_data):5} '{ltf2}' candles from \\t{ltf2_data.index.min()} to {ltf2_data.index.max()}\")\n",
    "    print(f\"📊 Loaded {len(mtf_data):5} '{mtf}' candles from \\t{mtf_data.index.min()} to {mtf_data.index.max()}\")\n",
    "    print(f\"📊 Loaded {len(htf_data):5} '{htf}' candles from \\t{htf_data.index.min()} to {htf_data.index.max()}\")\n",
    "    data = {ltf1: ltf1_data, ltf2: ltf2_data, mtf: mtf_data, htf: htf_data}"
   ]
  },
  {
   "cell_type": "markdown",
   "id": "0c57cebf",
   "metadata": {},
   "source": [
    "#### === Step 2: Analyse market structure ==="
   ]
  },
  {
   "cell_type": "code",
   "execution_count": 288,
   "id": "98dcaf2b",
   "metadata": {},
   "outputs": [
    {
     "name": "stdout",
     "output_type": "stream",
     "text": [
      "🔍 Analyzing market structure...\n",
      "⏱️  Market structure analysis with ATR took \t 13.009824 ms\n",
      "⏱️  Market structure analysis without ATR took \t 54.678529 ms\n"
     ]
    }
   ],
   "source": [
    "print(\"🔍 Analyzing market structure...\")\n",
    "from core.structure_builder import analyse_market_structure\n",
    "from time import perf_counter_ns\n",
    "\n",
    "t = perf_counter_ns()\n",
    "swing_high_low_test, trend_test = analyse_market_structure(mtf_data, based_on_atr=True)#dropna()\n",
    "swing_high_low_test = swing_high_low_test.dropna()\n",
    "print(f\"⏱️  Market structure analysis with ATR took \\t {(perf_counter_ns() - t)/ 1_000_000} ms\")\n",
    "\n",
    "t = perf_counter_ns()\n",
    "swing_high_low_test_2, trend_test_2 = analyse_market_structure(mtf_data, based_on_atr=False)#.dropna()\n",
    "swing_high_low_test_2 = swing_high_low_test_2.dropna()\n",
    "\n",
    "print(f\"⏱️  Market structure analysis without ATR took \\t {(perf_counter_ns() - t) / 1_000_000} ms\")"
   ]
  },
  {
   "cell_type": "code",
   "execution_count": 289,
   "id": "64fc3a3f",
   "metadata": {},
   "outputs": [
    {
     "name": "stdout",
     "output_type": "stream",
     "text": [
      "🔍 Analyzing market structure...\n",
      "📊 1M : Total structure points:   148, Trend: sideways\n",
      "📊 2M : Total structure points:    71, Trend: sideways\n",
      "📊 15M: Total structure points:    23, Trend: downtrend\n",
      "📊 4H : Total structure points:    14, Trend: downtrend\n"
     ]
    }
   ],
   "source": [
    "print(\"🔍 Analyzing market structure...\")\n",
    "from core.structure_builder import analyse_market_structure\n",
    "\n",
    "prominence_factor ={\n",
    "    ltf1: 10,\n",
    "    ltf2: 9,\n",
    "    mtf: 4,\n",
    "    htf: 0.5\n",
    "}\n",
    "\n",
    "structure = {}\n",
    "trends = {}\n",
    "for tf, df in data.items():\n",
    "    analysis, trend = analyse_market_structure(df, swing_length=10, trend_window=4, prominence_factor=prominence_factor[tf])\n",
    "    structure[tf] = analysis.dropna()\n",
    "    trends[tf] = trend\n",
    "    print(f\"📊 {tf:3}: Total structure points: {len(structure[tf].dropna()):5}, Trend: {trend}\")"
   ]
  },
  {
   "cell_type": "code",
   "execution_count": 4,
   "id": "02562b71",
   "metadata": {},
   "outputs": [
    {
     "data": {
      "text/plain": [
       "<module 'core.structure_builder' from '/home/homeflo/workspace/project_trading/Trading-Bot/core/structure_builder.py'>"
      ]
     },
     "execution_count": 4,
     "metadata": {},
     "output_type": "execute_result"
    }
   ],
   "source": [
    "from importlib import reload\n",
    "from core import structure_builder\n",
    "reload(structure_builder)"
   ]
  },
  {
   "cell_type": "code",
   "execution_count": 290,
   "id": "a2c2160d",
   "metadata": {},
   "outputs": [],
   "source": [
    "structure_mtf = structure[mtf]\n"
   ]
  },
  {
   "cell_type": "markdown",
   "id": "1b9da82f",
   "metadata": {},
   "source": [
    "#### === Step 3: Detect market events ==="
   ]
  },
  {
   "cell_type": "code",
   "execution_count": 291,
   "id": "c5814d42",
   "metadata": {},
   "outputs": [
    {
     "name": "stdout",
     "output_type": "stream",
     "text": [
      "🎯 Detecting market events...\n",
      "🔍 Analyzing 1M timeframe...\n",
      "Index 2: SwingType.HL @ 1.33815 - Trend before: sideways\n",
      "📊 1M : Detected events:   148\n",
      "\n",
      "🔍 Analyzing 2M timeframe...\n",
      "Index 2: SwingType.LH @ 1.34188 - Trend before: sideways\n",
      "📊 2M : Detected events:    71\n",
      "\n",
      "🔍 Analyzing 15M timeframe...\n",
      "Index 2: SwingType.HL @ 1.34166 - Trend before: sideways\n",
      "📊 15M: Detected events:    23\n",
      "\n",
      "🔍 Analyzing 4H timeframe...\n",
      "Index 2: SwingType.HL @ 1.34835 - Trend before: sideways\n",
      "📊 4H : Detected events:    14\n",
      "\n"
     ]
    }
   ],
   "source": [
    "print(\"🎯 Detecting market events...\")\n",
    "from core.smart_money_concepts import MarketStructureAnalyzer\n",
    "analyzer = MarketStructureAnalyzer(confidence_threshold=0.5)\n",
    "\n",
    "all_events = {}\n",
    "for tf, df in data.items():\n",
    "    print(f\"🔍 Analyzing {tf} timeframe...\")\n",
    "    events = analyzer.analyse_market_events(structure[tf])\n",
    "    print(f\"📊 {tf:3}: Detected events: {len(events):5}\\n\")\n",
    "    all_events[tf] = events\n"
   ]
  },
  {
   "cell_type": "code",
   "execution_count": 275,
   "id": "3c90ea3e",
   "metadata": {},
   "outputs": [
    {
     "data": {
      "text/plain": [
       "<module 'core.smart_money_concepts' from '/home/homeflo/workspace/project_trading/Trading-Bot/core/smart_money_concepts.py'>"
      ]
     },
     "execution_count": 275,
     "metadata": {},
     "output_type": "execute_result"
    }
   ],
   "source": [
    "from importlib import reload\n",
    "from core import smart_money_concepts\n",
    "reload(smart_money_concepts)"
   ]
  },
  {
   "cell_type": "code",
   "execution_count": 89,
   "id": "357b467a",
   "metadata": {},
   "outputs": [
    {
     "data": {
      "text/plain": [
       "True"
      ]
     },
     "execution_count": 89,
     "metadata": {},
     "output_type": "execute_result"
    }
   ],
   "source": [
    "from enum import Enum\n",
    "from dataclasses import dataclass\n",
    "from typing import Optional\n",
    "import pandas as pd\n",
    "\n",
    "class SwingType(Enum):\n",
    "    HH = \"HH\"\n",
    "    HL = \"HL\"\n",
    "    LH = \"LH\"\n",
    "    LL = \"LL\"\n",
    "\n",
    "@dataclass\n",
    "class StructurePoint:\n",
    "    timestamp: pd.Timestamp\n",
    "    price: float\n",
    "    swing_type: SwingType\n",
    "    retracement: Optional[float] = None  # Optional retracement value\n",
    "\n",
    "swing = StructurePoint(\n",
    "    timestamp=pd.Timestamp(\"2024-01-01 00:00:00\"),\n",
    "    price=1.2345,\n",
    "    swing_type=SwingType.HH,\n",
    "    retracement=0.618)\n",
    "\n",
    "swing.swing_type == SwingType.HH\n"
   ]
  },
  {
   "cell_type": "code",
   "execution_count": 292,
   "id": "8f50e65f",
   "metadata": {},
   "outputs": [],
   "source": [
    "mtf_events = all_events[mtf]"
   ]
  },
  {
   "cell_type": "markdown",
   "id": "261b28ac",
   "metadata": {},
   "source": [
    "#### === Step 4: Initialize and run backtrader ==="
   ]
  },
  {
   "cell_type": "markdown",
   "id": "d06293bf",
   "metadata": {},
   "source": [
    "#### === Step 5: Run backtest ==="
   ]
  },
  {
   "cell_type": "markdown",
   "id": "e75df27f",
   "metadata": {},
   "source": [
    "#### === Step 6: Display results ==="
   ]
  },
  {
   "cell_type": "markdown",
   "id": "48bcaa68",
   "metadata": {},
   "source": [
    "#### === Step 7: Generate visualizations ==="
   ]
  },
  {
   "cell_type": "code",
   "execution_count": 393,
   "id": "d4353893",
   "metadata": {},
   "outputs": [
    {
     "name": "stdout",
     "output_type": "stream",
     "text": [
      "\n",
      "-> Testing Chart : Trend Detection\n",
      "✅ Chart 1 created successfully\n",
      "\n",
      "🎉 All charts generated successfully!\n"
     ]
    }
   ],
   "source": [
    "from utils.structure_trend_plotter import StructureTrendPlotter\n",
    "import plotly.io as pio\n",
    "pio.renderers.default = \"browser\"\n",
    "\n",
    "plotter = StructureTrendPlotter()\n",
    "\n",
    "try:\n",
    "    # Test Chart: Trend Detection\n",
    "    print(\"\\n-> Testing Chart : Trend Detection\")\n",
    "    fig1 = plotter.plot_structure(mtf_data, swing_high_low_test_2.dropna(), \"GBPUSD\", mtf)\n",
    "    print(\"✅ Chart 1 created successfully\")\n",
    "    fig1.show()\n",
    "    \n",
    "    print(\"\\n🎉 All charts generated successfully!\")\n",
    "        \n",
    "except Exception as e:\n",
    "    print(f\"❌ Error: {e}\")\n",
    "    import traceback\n",
    "    traceback.print_exc()"
   ]
  },
  {
   "cell_type": "code",
   "execution_count": 278,
   "id": "0eb79f65",
   "metadata": {},
   "outputs": [
    {
     "data": {
      "text/plain": [
       "<module 'utils.structure_trend_plotter' from '/home/homeflo/workspace/project_trading/Trading-Bot/utils/structure_trend_plotter.py'>"
      ]
     },
     "execution_count": 278,
     "metadata": {},
     "output_type": "execute_result"
    }
   ],
   "source": [
    "from importlib import reload\n",
    "from utils import structure_trend_plotter\n",
    "reload(structure_trend_plotter)"
   ]
  },
  {
   "cell_type": "code",
   "execution_count": 293,
   "id": "72c6f50e",
   "metadata": {},
   "outputs": [
    {
     "name": "stdout",
     "output_type": "stream",
     "text": [
      "\n",
      "-> Testing Chart : Trend Detection\n",
      "<class 'list'>\n",
      "Warning: Structure point at 2025-09-07 22:30:00+00:00 falls within a rangebreak period.\n",
      "205\n",
      "✅ Chart 1 created successfully\n",
      "\n",
      "🎉 All charts generated successfully!\n"
     ]
    }
   ],
   "source": [
    "from utils.structure_trend_plotter import StructureTrendPlotter\n",
    "import plotly.io as pio\n",
    "pio.renderers.default = \"browser\"\n",
    "\n",
    "plotter = StructureTrendPlotter()\n",
    "\n",
    "try:\n",
    "    # Test Chart: Trend Detection\n",
    "    print(\"\\n-> Testing Chart : Trend Detection\")\n",
    "    fig1 = plotter.plot_structure(mtf_data, structure[mtf].dropna(), mtf_events, \"GBPUSD\", mtf)\n",
    "    print(\"✅ Chart 1 created successfully\")\n",
    "    fig1.show()\n",
    "    \n",
    "    print(\"\\n🎉 All charts generated successfully!\")\n",
    "        \n",
    "except Exception as e:\n",
    "    print(f\"❌ Error: {e}\")\n",
    "    import traceback\n",
    "    traceback.print_exc()"
   ]
  },
  {
   "cell_type": "code",
   "execution_count": 100,
   "id": "9bf93634",
   "metadata": {},
   "outputs": [
    {
     "name": "stdout",
     "output_type": "stream",
     "text": [
      "\n",
      "-> Testing Chart : Trend Detection\n",
      "10\n",
      "✅ Chart 1 created successfully\n",
      "\n",
      "🎉 All charts generated successfully!\n"
     ]
    }
   ],
   "source": [
    "from utils.structure_trend_plotter import StructureTrendPlotter\n",
    "import plotly.io as pio\n",
    "pio.renderers.default = \"browser\"\n",
    "\n",
    "plotter = StructureTrendPlotter()\n",
    "\n",
    "try:\n",
    "    # Test Chart: Trend Detection\n",
    "    print(\"\\n-> Testing Chart : Trend Detection\")\n",
    "    fig1 = plotter.plot_structure(htf_data, structure[htf].dropna(), \"GBPUSD\", htf)\n",
    "    print(\"✅ Chart 1 created successfully\")\n",
    "    fig1.show()\n",
    "    \n",
    "    print(\"\\n🎉 All charts generated successfully!\")\n",
    "        \n",
    "except Exception as e:\n",
    "    print(f\"❌ Error: {e}\")\n",
    "    import traceback\n",
    "    traceback.print_exc()"
   ]
  },
  {
   "cell_type": "code",
   "execution_count": null,
   "id": "0e9c715e",
   "metadata": {},
   "outputs": [
    {
     "name": "stdout",
     "output_type": "stream",
     "text": [
      "\n",
      "-> Testing Chart : Trend Detection\n",
      "✅ Chart 1 created successfully\n",
      "\n",
      "🎉 All charts generated successfully!\n"
     ]
    }
   ],
   "source": [
    "from utils.structure_trend_plotter import StructureTrendPlotter\n",
    "import plotly.io as pio\n",
    "pio.renderers.default = \"browser\"\n",
    "\n",
    "plotter = StructureTrendPlotter()\n",
    "\n",
    "try:\n",
    "    # Test Chart: Trend Detection\n",
    "    print(\"\\n-> Testing Chart : Trend Detection\")\n",
    "    fig1 = plotter.plot_structure(ltf1_data, structure[ltf1].dropna(), \"GBPUSD\", ltf1)\n",
    "    print(\"✅ Chart 1 created successfully\")\n",
    "    fig1.show()\n",
    "    \n",
    "    print(\"\\n🎉 All charts generated successfully!\")\n",
    "        \n",
    "except Exception as e:\n",
    "    print(f\"❌ Error: {e}\")\n",
    "    import traceback\n",
    "    traceback.print_exc()"
   ]
  },
  {
   "cell_type": "code",
   "execution_count": 105,
   "id": "44593f8b",
   "metadata": {},
   "outputs": [
    {
     "name": "stdout",
     "output_type": "stream",
     "text": [
      "\n",
      "-> Testing Chart : Trend Detection\n",
      "Warning: Structure point at 2025-09-07 22:40:00+00:00 falls within a rangebreak period.\n",
      "1569\n",
      "✅ Chart 1 created successfully\n",
      "\n",
      "🎉 All charts generated successfully!\n"
     ]
    }
   ],
   "source": [
    "from utils.structure_trend_plotter import StructureTrendPlotter\n",
    "import plotly.io as pio\n",
    "pio.renderers.default = \"browser\"\n",
    "\n",
    "plotter = StructureTrendPlotter()\n",
    "\n",
    "try:\n",
    "    # Test Chart: Trend Detection\n",
    "    print(\"\\n-> Testing Chart : Trend Detection\")\n",
    "    fig1 = plotter.plot_structure(ltf2_data, structure[ltf2].dropna(), \"GBPUSD\", ltf2)\n",
    "    print(\"✅ Chart 1 created successfully\")\n",
    "    fig1.show()\n",
    "    \n",
    "    print(\"\\n🎉 All charts generated successfully!\")\n",
    "        \n",
    "except Exception as e:\n",
    "    print(f\"❌ Error: {e}\")\n",
    "    import traceback\n",
    "    traceback.print_exc()"
   ]
  },
  {
   "cell_type": "code",
   "execution_count": 195,
   "id": "3ae5df53",
   "metadata": {},
   "outputs": [
    {
     "data": {
      "text/plain": [
       "<module 'utils.structure_trend_plotter' from '/home/homeflo/workspace/project_trading/Trading-Bot/utils/structure_trend_plotter.py'>"
      ]
     },
     "execution_count": 195,
     "metadata": {},
     "output_type": "execute_result"
    }
   ],
   "source": [
    "from importlib import reload\n",
    "from utils import structure_trend_plotter\n",
    "reload(structure_trend_plotter)"
   ]
  },
  {
   "cell_type": "code",
   "execution_count": null,
   "id": "d447e7ba",
   "metadata": {},
   "outputs": [],
   "source": []
  }
 ],
 "metadata": {
  "kernelspec": {
   "display_name": ".venv",
   "language": "python",
   "name": "python3"
  },
  "language_info": {
   "codemirror_mode": {
    "name": "ipython",
    "version": 3
   },
   "file_extension": ".py",
   "mimetype": "text/x-python",
   "name": "python",
   "nbconvert_exporter": "python",
   "pygments_lexer": "ipython3",
   "version": "3.12.3"
  }
 },
 "nbformat": 4,
 "nbformat_minor": 5
}
